{
  "nbformat": 4,
  "nbformat_minor": 0,
  "metadata": {
    "colab": {
      "provenance": [],
      "authorship_tag": "ABX9TyOouKvpxCTk22T75Oc0hgDb",
      "include_colab_link": true
    },
    "kernelspec": {
      "name": "python3",
      "display_name": "Python 3"
    },
    "language_info": {
      "name": "python"
    }
  },
  "cells": [
    {
      "cell_type": "markdown",
      "metadata": {
        "id": "view-in-github",
        "colab_type": "text"
      },
      "source": [
        "<a href=\"https://colab.research.google.com/github/andrysun/HW_7/blob/7_HW_sem/HW_10.ipynb\" target=\"_parent\"><img src=\"https://colab.research.google.com/assets/colab-badge.svg\" alt=\"Open In Colab\"/></a>"
      ]
    },
    {
      "cell_type": "markdown",
      "source": [
        "**Задача 44**: В ячейке ниже представлен код генерирующий DataFrame, которая состоит всего из 1 столбца. Ваша задача перевести его в one hot вид. Сможете ли вы это сделать без get_dummies?"
      ],
      "metadata": {
        "id": "t_VrPKv4EcLK"
      }
    },
    {
      "cell_type": "code",
      "execution_count": 3,
      "metadata": {
        "id": "27wfdRzhEJqN"
      },
      "outputs": [],
      "source": [
        "import pandas as pd\n",
        "import numpy as np\n",
        "\n",
        "df = pd.read_csv('/content/sample_data/california_housing_train.csv')"
      ]
    },
    {
      "cell_type": "code",
      "source": [
        "import random\n",
        "\n",
        "lst = ['robot'] * 10\n",
        "\n",
        "lst += ['human'] * 10\n",
        "\n",
        "random.shuffle(lst)\n",
        "\n",
        "data = pd.DataFrame({'whoAmI':lst})\n",
        "\n",
        "data.head()"
      ],
      "metadata": {
        "id": "7e2ciglPGopj"
      },
      "execution_count": null,
      "outputs": []
    },
    {
      "cell_type": "code",
      "source": [
        "data"
      ],
      "metadata": {
        "id": "jhmlQl8mGuBP"
      },
      "execution_count": null,
      "outputs": []
    },
    {
      "cell_type": "code",
      "source": [
        "data.loc[data['whoAmI'] == 'human', 'human'] = '1'"
      ],
      "metadata": {
        "id": "L0yIL-_-GyGN"
      },
      "execution_count": 6,
      "outputs": []
    },
    {
      "cell_type": "code",
      "source": [
        "data.loc[data['whoAmI'] != 'human', 'human'] = '0'"
      ],
      "metadata": {
        "id": "ONA1But_G0ni"
      },
      "execution_count": 7,
      "outputs": []
    },
    {
      "cell_type": "code",
      "source": [
        "data.drop(columns='whoAmI')"
      ],
      "metadata": {
        "id": "SlyqgLKqG3kf"
      },
      "execution_count": null,
      "outputs": []
    }
  ]
}